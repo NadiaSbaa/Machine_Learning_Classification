{
 "cells": [
  {
   "cell_type": "markdown",
   "metadata": {},
   "source": [
    "<h1> Decision Tree Classifier Algorithm </h1> "
   ]
  },
  {
   "cell_type": "code",
   "execution_count": 33,
   "metadata": {},
   "outputs": [],
   "source": [
    "from IPython.display import IFrame\n",
    "from sklearn import datasets\n",
    "from itertools import cycle\n",
    "import matplotlib\n",
    "import pylab as pl"
   ]
  },
  {
   "cell_type": "code",
   "execution_count": 34,
   "metadata": {},
   "outputs": [
    {
     "data": {
      "text/html": [
       "\n",
       "        <iframe\n",
       "            width=\"300\"\n",
       "            height=\"200\"\n",
       "            src=\"https://archive.ics.uci.edu/ml/machine-learning-databases/iris/iris.data\"\n",
       "            frameborder=\"0\"\n",
       "            allowfullscreen\n",
       "        ></iframe>\n",
       "        "
      ],
      "text/plain": [
       "<IPython.lib.display.IFrame at 0x2a1691fc308>"
      ]
     },
     "execution_count": 34,
     "metadata": {},
     "output_type": "execute_result"
    }
   ],
   "source": [
    "IFrame('https://archive.ics.uci.edu/ml/machine-learning-databases/iris/iris.data',width=300, height=200)"
   ]
  },
  {
   "cell_type": "markdown",
   "metadata": {},
   "source": [
    "<h2> Load Data Iris </h2>\n",
    "<h5> Display the data part (description of the data in terms of attributes) and the target part (class, target, label) </h5>"
   ]
  },
  {
   "cell_type": "code",
   "execution_count": 35,
   "metadata": {},
   "outputs": [
    {
     "name": "stdout",
     "output_type": "stream",
     "text": [
      "Data :  [[5.1 3.5 1.4 0.2]\n",
      " [4.9 3.  1.4 0.2]\n",
      " [4.7 3.2 1.3 0.2]\n",
      " [4.6 3.1 1.5 0.2]\n",
      " [5.  3.6 1.4 0.2]\n",
      " [5.4 3.9 1.7 0.4]\n",
      " [4.6 3.4 1.4 0.3]\n",
      " [5.  3.4 1.5 0.2]\n",
      " [4.4 2.9 1.4 0.2]\n",
      " [4.9 3.1 1.5 0.1]\n",
      " [5.4 3.7 1.5 0.2]\n",
      " [4.8 3.4 1.6 0.2]\n",
      " [4.8 3.  1.4 0.1]\n",
      " [4.3 3.  1.1 0.1]\n",
      " [5.8 4.  1.2 0.2]\n",
      " [5.7 4.4 1.5 0.4]\n",
      " [5.4 3.9 1.3 0.4]\n",
      " [5.1 3.5 1.4 0.3]\n",
      " [5.7 3.8 1.7 0.3]\n",
      " [5.1 3.8 1.5 0.3]\n",
      " [5.4 3.4 1.7 0.2]\n",
      " [5.1 3.7 1.5 0.4]\n",
      " [4.6 3.6 1.  0.2]\n",
      " [5.1 3.3 1.7 0.5]\n",
      " [4.8 3.4 1.9 0.2]\n",
      " [5.  3.  1.6 0.2]\n",
      " [5.  3.4 1.6 0.4]\n",
      " [5.2 3.5 1.5 0.2]\n",
      " [5.2 3.4 1.4 0.2]\n",
      " [4.7 3.2 1.6 0.2]\n",
      " [4.8 3.1 1.6 0.2]\n",
      " [5.4 3.4 1.5 0.4]\n",
      " [5.2 4.1 1.5 0.1]\n",
      " [5.5 4.2 1.4 0.2]\n",
      " [4.9 3.1 1.5 0.2]\n",
      " [5.  3.2 1.2 0.2]\n",
      " [5.5 3.5 1.3 0.2]\n",
      " [4.9 3.6 1.4 0.1]\n",
      " [4.4 3.  1.3 0.2]\n",
      " [5.1 3.4 1.5 0.2]\n",
      " [5.  3.5 1.3 0.3]\n",
      " [4.5 2.3 1.3 0.3]\n",
      " [4.4 3.2 1.3 0.2]\n",
      " [5.  3.5 1.6 0.6]\n",
      " [5.1 3.8 1.9 0.4]\n",
      " [4.8 3.  1.4 0.3]\n",
      " [5.1 3.8 1.6 0.2]\n",
      " [4.6 3.2 1.4 0.2]\n",
      " [5.3 3.7 1.5 0.2]\n",
      " [5.  3.3 1.4 0.2]\n",
      " [7.  3.2 4.7 1.4]\n",
      " [6.4 3.2 4.5 1.5]\n",
      " [6.9 3.1 4.9 1.5]\n",
      " [5.5 2.3 4.  1.3]\n",
      " [6.5 2.8 4.6 1.5]\n",
      " [5.7 2.8 4.5 1.3]\n",
      " [6.3 3.3 4.7 1.6]\n",
      " [4.9 2.4 3.3 1. ]\n",
      " [6.6 2.9 4.6 1.3]\n",
      " [5.2 2.7 3.9 1.4]\n",
      " [5.  2.  3.5 1. ]\n",
      " [5.9 3.  4.2 1.5]\n",
      " [6.  2.2 4.  1. ]\n",
      " [6.1 2.9 4.7 1.4]\n",
      " [5.6 2.9 3.6 1.3]\n",
      " [6.7 3.1 4.4 1.4]\n",
      " [5.6 3.  4.5 1.5]\n",
      " [5.8 2.7 4.1 1. ]\n",
      " [6.2 2.2 4.5 1.5]\n",
      " [5.6 2.5 3.9 1.1]\n",
      " [5.9 3.2 4.8 1.8]\n",
      " [6.1 2.8 4.  1.3]\n",
      " [6.3 2.5 4.9 1.5]\n",
      " [6.1 2.8 4.7 1.2]\n",
      " [6.4 2.9 4.3 1.3]\n",
      " [6.6 3.  4.4 1.4]\n",
      " [6.8 2.8 4.8 1.4]\n",
      " [6.7 3.  5.  1.7]\n",
      " [6.  2.9 4.5 1.5]\n",
      " [5.7 2.6 3.5 1. ]\n",
      " [5.5 2.4 3.8 1.1]\n",
      " [5.5 2.4 3.7 1. ]\n",
      " [5.8 2.7 3.9 1.2]\n",
      " [6.  2.7 5.1 1.6]\n",
      " [5.4 3.  4.5 1.5]\n",
      " [6.  3.4 4.5 1.6]\n",
      " [6.7 3.1 4.7 1.5]\n",
      " [6.3 2.3 4.4 1.3]\n",
      " [5.6 3.  4.1 1.3]\n",
      " [5.5 2.5 4.  1.3]\n",
      " [5.5 2.6 4.4 1.2]\n",
      " [6.1 3.  4.6 1.4]\n",
      " [5.8 2.6 4.  1.2]\n",
      " [5.  2.3 3.3 1. ]\n",
      " [5.6 2.7 4.2 1.3]\n",
      " [5.7 3.  4.2 1.2]\n",
      " [5.7 2.9 4.2 1.3]\n",
      " [6.2 2.9 4.3 1.3]\n",
      " [5.1 2.5 3.  1.1]\n",
      " [5.7 2.8 4.1 1.3]\n",
      " [6.3 3.3 6.  2.5]\n",
      " [5.8 2.7 5.1 1.9]\n",
      " [7.1 3.  5.9 2.1]\n",
      " [6.3 2.9 5.6 1.8]\n",
      " [6.5 3.  5.8 2.2]\n",
      " [7.6 3.  6.6 2.1]\n",
      " [4.9 2.5 4.5 1.7]\n",
      " [7.3 2.9 6.3 1.8]\n",
      " [6.7 2.5 5.8 1.8]\n",
      " [7.2 3.6 6.1 2.5]\n",
      " [6.5 3.2 5.1 2. ]\n",
      " [6.4 2.7 5.3 1.9]\n",
      " [6.8 3.  5.5 2.1]\n",
      " [5.7 2.5 5.  2. ]\n",
      " [5.8 2.8 5.1 2.4]\n",
      " [6.4 3.2 5.3 2.3]\n",
      " [6.5 3.  5.5 1.8]\n",
      " [7.7 3.8 6.7 2.2]\n",
      " [7.7 2.6 6.9 2.3]\n",
      " [6.  2.2 5.  1.5]\n",
      " [6.9 3.2 5.7 2.3]\n",
      " [5.6 2.8 4.9 2. ]\n",
      " [7.7 2.8 6.7 2. ]\n",
      " [6.3 2.7 4.9 1.8]\n",
      " [6.7 3.3 5.7 2.1]\n",
      " [7.2 3.2 6.  1.8]\n",
      " [6.2 2.8 4.8 1.8]\n",
      " [6.1 3.  4.9 1.8]\n",
      " [6.4 2.8 5.6 2.1]\n",
      " [7.2 3.  5.8 1.6]\n",
      " [7.4 2.8 6.1 1.9]\n",
      " [7.9 3.8 6.4 2. ]\n",
      " [6.4 2.8 5.6 2.2]\n",
      " [6.3 2.8 5.1 1.5]\n",
      " [6.1 2.6 5.6 1.4]\n",
      " [7.7 3.  6.1 2.3]\n",
      " [6.3 3.4 5.6 2.4]\n",
      " [6.4 3.1 5.5 1.8]\n",
      " [6.  3.  4.8 1.8]\n",
      " [6.9 3.1 5.4 2.1]\n",
      " [6.7 3.1 5.6 2.4]\n",
      " [6.9 3.1 5.1 2.3]\n",
      " [5.8 2.7 5.1 1.9]\n",
      " [6.8 3.2 5.9 2.3]\n",
      " [6.7 3.3 5.7 2.5]\n",
      " [6.7 3.  5.2 2.3]\n",
      " [6.3 2.5 5.  1.9]\n",
      " [6.5 3.  5.2 2. ]\n",
      " [6.2 3.4 5.4 2.3]\n",
      " [5.9 3.  5.1 1.8]]\n",
      "Target :  [0 0 0 0 0 0 0 0 0 0 0 0 0 0 0 0 0 0 0 0 0 0 0 0 0 0 0 0 0 0 0 0 0 0 0 0 0\n",
      " 0 0 0 0 0 0 0 0 0 0 0 0 0 1 1 1 1 1 1 1 1 1 1 1 1 1 1 1 1 1 1 1 1 1 1 1 1\n",
      " 1 1 1 1 1 1 1 1 1 1 1 1 1 1 1 1 1 1 1 1 1 1 1 1 1 1 2 2 2 2 2 2 2 2 2 2 2\n",
      " 2 2 2 2 2 2 2 2 2 2 2 2 2 2 2 2 2 2 2 2 2 2 2 2 2 2 2 2 2 2 2 2 2 2 2 2 2\n",
      " 2 2]\n"
     ]
    }
   ],
   "source": [
    "irisData = datasets.load_iris()\n",
    "data = irisData.data\n",
    "target = irisData.target\n",
    "print (\"Data : \", data)\n",
    "print (\"Target : \", target)"
   ]
  },
  {
   "cell_type": "markdown",
   "metadata": {},
   "source": [
    "<h2> Exploring the dataset </h2>"
   ]
  },
  {
   "cell_type": "markdown",
   "metadata": {},
   "source": [
    "How are the data distributed in the tables?\n",
    "How much data is there in each class?\n",
    "What are the attributes and class of the 32nd element in the sample?"
   ]
  },
  {
   "cell_type": "markdown",
   "metadata": {},
   "source": [
    "<h5> What are the attributes of the dataset? </h5>"
   ]
  },
  {
   "cell_type": "code",
   "execution_count": 36,
   "metadata": {},
   "outputs": [
    {
     "data": {
      "text/plain": [
       "['sepal length (cm)',\n",
       " 'sepal width (cm)',\n",
       " 'petal length (cm)',\n",
       " 'petal width (cm)']"
      ]
     },
     "execution_count": 36,
     "metadata": {},
     "output_type": "execute_result"
    }
   ],
   "source": [
    "irisData.feature_names"
   ]
  },
  {
   "cell_type": "markdown",
   "metadata": {},
   "source": [
    "<h5> What are the target classes or labels of the dataset? </h5>"
   ]
  },
  {
   "cell_type": "code",
   "execution_count": 37,
   "metadata": {},
   "outputs": [
    {
     "data": {
      "text/plain": [
       "array(['setosa', 'versicolor', 'virginica'], dtype='<U10')"
      ]
     },
     "execution_count": 37,
     "metadata": {},
     "output_type": "execute_result"
    }
   ],
   "source": [
    "target_names = irisData.target_names\n",
    "irisData.target_names"
   ]
  },
  {
   "cell_type": "markdown",
   "metadata": {},
   "source": [
    "<h5> What is the description of the dataset? </h5>"
   ]
  },
  {
   "cell_type": "code",
   "execution_count": 38,
   "metadata": {},
   "outputs": [
    {
     "name": "stdout",
     "output_type": "stream",
     "text": [
      ".. _iris_dataset:\n",
      "\n",
      "Iris plants dataset\n",
      "--------------------\n",
      "\n",
      "**Data Set Characteristics:**\n",
      "\n",
      "    :Number of Instances: 150 (50 in each of three classes)\n",
      "    :Number of Attributes: 4 numeric, predictive attributes and the class\n",
      "    :Attribute Information:\n",
      "        - sepal length in cm\n",
      "        - sepal width in cm\n",
      "        - petal length in cm\n",
      "        - petal width in cm\n",
      "        - class:\n",
      "                - Iris-Setosa\n",
      "                - Iris-Versicolour\n",
      "                - Iris-Virginica\n",
      "                \n",
      "    :Summary Statistics:\n",
      "\n",
      "    ============== ==== ==== ======= ===== ====================\n",
      "                    Min  Max   Mean    SD   Class Correlation\n",
      "    ============== ==== ==== ======= ===== ====================\n",
      "    sepal length:   4.3  7.9   5.84   0.83    0.7826\n",
      "    sepal width:    2.0  4.4   3.05   0.43   -0.4194\n",
      "    petal length:   1.0  6.9   3.76   1.76    0.9490  (high!)\n",
      "    petal width:    0.1  2.5   1.20   0.76    0.9565  (high!)\n",
      "    ============== ==== ==== ======= ===== ====================\n",
      "\n",
      "    :Missing Attribute Values: None\n",
      "    :Class Distribution: 33.3% for each of 3 classes.\n",
      "    :Creator: R.A. Fisher\n",
      "    :Donor: Michael Marshall (MARSHALL%PLU@io.arc.nasa.gov)\n",
      "    :Date: July, 1988\n",
      "\n",
      "The famous Iris database, first used by Sir R.A. Fisher. The dataset is taken\n",
      "from Fisher's paper. Note that it's the same as in R, but not as in the UCI\n",
      "Machine Learning Repository, which has two wrong data points.\n",
      "\n",
      "This is perhaps the best known database to be found in the\n",
      "pattern recognition literature.  Fisher's paper is a classic in the field and\n",
      "is referenced frequently to this day.  (See Duda & Hart, for example.)  The\n",
      "data set contains 3 classes of 50 instances each, where each class refers to a\n",
      "type of iris plant.  One class is linearly separable from the other 2; the\n",
      "latter are NOT linearly separable from each other.\n",
      "\n",
      ".. topic:: References\n",
      "\n",
      "   - Fisher, R.A. \"The use of multiple measurements in taxonomic problems\"\n",
      "     Annual Eugenics, 7, Part II, 179-188 (1936); also in \"Contributions to\n",
      "     Mathematical Statistics\" (John Wiley, NY, 1950).\n",
      "   - Duda, R.O., & Hart, P.E. (1973) Pattern Classification and Scene Analysis.\n",
      "     (Q327.D83) John Wiley & Sons.  ISBN 0-471-22361-1.  See page 218.\n",
      "   - Dasarathy, B.V. (1980) \"Nosing Around the Neighborhood: A New System\n",
      "     Structure and Classification Rule for Recognition in Partially Exposed\n",
      "     Environments\".  IEEE Transactions on Pattern Analysis and Machine\n",
      "     Intelligence, Vol. PAMI-2, No. 1, 67-71.\n",
      "   - Gates, G.W. (1972) \"The Reduced Nearest Neighbor Rule\".  IEEE Transactions\n",
      "     on Information Theory, May 1972, 431-433.\n",
      "   - See also: 1988 MLC Proceedings, 54-64.  Cheeseman et al\"s AUTOCLASS II\n",
      "     conceptual clustering system finds 3 classes in the data.\n",
      "   - Many, many more ...\n"
     ]
    }
   ],
   "source": [
    "print(irisData.DESCR)"
   ]
  },
  {
   "cell_type": "markdown",
   "metadata": {},
   "source": [
    "Thus, we have:\n",
    "    <h5> Number of data in each class is 50 so in total 50 + 50 + 50 = 150 </h5>\n",
    "    <h5> Missing Value: 0 </h5>\n",
    "\n",
    "        \n",
    "    ============== ==== ==== ======= ===== ====================\n",
    "                    Min  Max   Mean    SD   Class Correlation\n",
    "    ============== ==== ==== ======= ===== ====================\n",
    "    sepal length:   4.3  7.9   5.84   0.83    0.7826\n",
    "    sepal width:    2.0  4.4   3.05   0.43   -0.4194\n",
    "    petal length:   1.0  6.9   3.76   1.76    0.9490  (high!)\n",
    "    petal width:    0.1  2.5   1.20   0.76    0.9565  (high!)\n",
    "    ============== ==== ==== ======= ===== ====================\n"
   ]
  },
  {
   "cell_type": "markdown",
   "metadata": {},
   "source": [
    "<h5> Note: </h5> The attributes and class of the 32nd element in the sample:"
   ]
  },
  {
   "cell_type": "code",
   "execution_count": 39,
   "metadata": {},
   "outputs": [
    {
     "name": "stdout",
     "output_type": "stream",
     "text": [
      "Les attributs : \n",
      "sepal length (cm)  :  5.2\n",
      "sepal width (cm)  :  4.1\n",
      "petal length (cm)  :  1.5\n",
      "petal width (cm)  :  0.1\n",
      "classe :  setosa\n"
     ]
    }
   ],
   "source": [
    "print(\"Attributes : \")\n",
    "for i in range(0, len(irisData.feature_names)):\n",
    "    print(irisData.feature_names[i], \" : \", irisData.data[32][i])\n",
    "print(\"class : \", irisData.target_names[irisData.target[32]])"
   ]
  },
  {
   "cell_type": "code",
   "execution_count": 40,
   "metadata": {},
   "outputs": [],
   "source": [
    "def plot_2D(data, target, target_names):\n",
    "    colors = cycle('rgbcmykw') # cycle de couleurs\n",
    "    target_ids = range(len(target_names))\n",
    "    pl.figure()\n",
    "    for i, c, label in zip(target_ids, colors, target_names):\n",
    "        print(\"Scatter plot : \", target_names[i])\n",
    "        pl.scatter(data[target == i, 0], data[target == i, 1], c=c, label=label)\n",
    "        pl.legend()\n",
    "        pl.show()"
   ]
  },
  {
   "cell_type": "code",
   "execution_count": 41,
   "metadata": {},
   "outputs": [
    {
     "name": "stdout",
     "output_type": "stream",
     "text": [
      "Scatter plot :  setosa\n"
     ]
    },
    {
     "data": {
      "image/png": "[encoded data removed]",
      "text/plain": [
       "<Figure size 432x288 with 1 Axes>"
      ]
     },
     "metadata": {
      "needs_background": "light"
     },
     "output_type": "display_data"
    },
    {
     "name": "stdout",
     "output_type": "stream",
     "text": [
      "Scatter plot :  versicolor\n"
     ]
    },
    {
     "data": {
      "image/png": "[encoded data removed]",
      "text/plain": [
       "<Figure size 432x288 with 1 Axes>"
      ]
     },
     "metadata": {
      "needs_background": "light"
     },
     "output_type": "display_data"
    },
    {
     "name": "stdout",
     "output_type": "stream",
     "text": [
      "Scatter plot :  virginica\n"
     ]
    },
    {
     "data": {
      "image/png": "[encoded data removed]",
      "text/plain": [
       "<Figure size 432x288 with 1 Axes>"
      ]
     },
     "metadata": {
      "needs_background": "light"
     },
     "output_type": "display_data"
    }
   ],
   "source": [
    "plot_2D(data, target, target_names)"
   ]
  },
  {
   "cell_type": "markdown",
   "metadata": {},
   "source": [
    "<h5> Understand and comment: </h5>\n",
    "The dataset is normally distributed for the most part, so we can use algorithms that assume that the data is normally distributed."
   ]
  },
  {
   "cell_type": "markdown",
   "metadata": {},
   "source": [
    "<h5>2.</h5>"
   ]
  },
  {
   "cell_type": "code",
   "execution_count": 42,
   "metadata": {},
   "outputs": [
    {
     "data": {
      "image/png": "[encoded data removed]",
      "text/plain": [
       "<Figure size 360x288 with 2 Axes>"
      ]
     },
     "metadata": {
      "needs_background": "light"
     },
     "output_type": "display_data"
    }
   ],
   "source": [
    "# The indices of the features that we are plotting\n",
    "x_index = 0\n",
    "y_index = 1\n",
    "\n",
    "# this formatter will label the colorbar with the correct target names\n",
    "formatter = pl.FuncFormatter(lambda i, *args: irisData.target_names[int(i)])\n",
    "\n",
    "pl.figure(figsize=(5, 4))\n",
    "pl.scatter(irisData.data[:, x_index], irisData.data[:, y_index], c=irisData.target)\n",
    "pl.colorbar(ticks=[0, 1, 2], format=formatter)\n",
    "pl.xlabel(irisData.feature_names[x_index])\n",
    "pl.ylabel(irisData.feature_names[y_index])\n",
    "\n",
    "pl.tight_layout()\n",
    "pl.show()"
   ]
  },
  {
   "cell_type": "markdown",
   "metadata": {},
   "source": [
    "<h2> First classifier training: </h2>"
   ]
  },
  {
   "cell_type": "code",
   "execution_count": 43,
   "metadata": {},
   "outputs": [],
   "source": [
    "from sklearn.tree import DecisionTreeClassifier"
   ]
  },
  {
   "cell_type": "code",
   "execution_count": 44,
   "metadata": {},
   "outputs": [
    {
     "name": "stdout",
     "output_type": "stream",
     "text": [
      "[0]\n",
      "[2]\n",
      "[0 0 0 0 0 0 0 0 0 0 0 0 0 0 0 0 0 0 0 0 0 0 0 0 0 0 0 0 0 0 0 0 0 0 0 0 0\n",
      " 0 0 0 0 0 0 0 0 0 0 0 0 0 1 1 1 1 1 1 1 1 1 1 1 1 1 1 1 1 1 1 1 1 1 1 1 1\n",
      " 1 1 1 1 1 1 1 1 1 1 1 1 1 1 1 1 1 1 1 1 1 1 1 1 1 1 2 2 2 2 2 2 2 2 2 2 2\n",
      " 2 2 2 2 2 2 2 2 2 2 2 2 2 2 2 2 2 2 2 2 2 2 2 2 2 2 2 2 2 2 2 2 2 2 2 2 2\n",
      " 2 2]\n"
     ]
    }
   ],
   "source": [
    "dtc = DecisionTreeClassifier(random_state=0)\n",
    "irisData = datasets.load_iris()\n",
    "dtc.fit(irisData.data[:-1], irisData.target[:-1])\n",
    "p31 = dtc.predict([irisData.data[31]])\n",
    "print(p31)\n",
    "plast = dtc.predict([irisData.data[-1]])\n",
    "print(plast)\n",
    "p = dtc.predict(irisData.data[:])\n",
    "print(p)"
   ]
  },
  {
   "cell_type": "code",
   "execution_count": 45,
   "metadata": {},
   "outputs": [],
   "source": [
    "dtc = DecisionTreeClassifier(random_state=0)\n",
    "dtc.fit(irisData.data[:99], irisData.target[:99])\n",
    "P = dtc.predict(irisData.data[100:149])"
   ]
  },
  {
   "cell_type": "markdown",
   "metadata": {},
   "source": [
    "<h5> Result: </h5>\n",
    "The program below uses the same dataset for training and testing.\n",
    "The results do not appear to be consistent. This is a case of great learning! To balance the dataset, we can use several methods to divide the learning dataset from the test dataset:\n",
    " <h5> - Split test </h5>\n",
    " <h5> - Cross Valisation </h5>"
   ]
  },
  {
   "cell_type": "markdown",
   "metadata": {},
   "source": [
    "<h2> Evaluate the performance of a classifier </h2>\n",
    "The objective here is to initiate learning on the Iris dataset, and to assess the performance of this learning by calculating for each:\n",
    "<h5> - The learning error </h5>\n",
    "<h5> - Estimation of the real error by separating the training sample into 2 parts</h5>\n",
    "<h5> - The estimation of the real error by cross validation.</h5>\n",
    "<h5> 1. Performance on the learning set </h5>"
   ]
  },
  {
   "cell_type": "code",
   "execution_count": 46,
   "metadata": {},
   "outputs": [
    {
     "name": "stdout",
     "output_type": "stream",
     "text": [
      "Erreur :  0.3333333333333333\n"
     ]
    }
   ],
   "source": [
    "ea = 0\n",
    "#P tableau qui contient les prédictions\n",
    "P = dtc.predict(irisData.data)\n",
    "#Y tableau qui contient les cibles\n",
    "Y = irisData.target\n",
    "for i in range(len(irisData.data)):\n",
    "    if (P[i] != Y[i]):\n",
    "        ea = ea+1\n",
    "e1 = ea/len(irisData.data)\n",
    "print(\"Erreur : \", e1)"
   ]
  },
  {
   "cell_type": "markdown",
   "metadata": {},
   "source": [
    "<h5> 2. </h5> The operators on arrays and matrices should make it possible to perform this computation in a single instruction"
   ]
  },
  {
   "cell_type": "code",
   "execution_count": 47,
   "metadata": {},
   "outputs": [],
   "source": [
    "import numpy as np"
   ]
  },
  {
   "cell_type": "code",
   "execution_count": 48,
   "metadata": {},
   "outputs": [
    {
     "name": "stdout",
     "output_type": "stream",
     "text": [
      "Erreur :  0.3333333333333333\n"
     ]
    }
   ],
   "source": [
    "x = np.array(P-Y)\n",
    "e2 = np.count_nonzero(x)/len(irisData.data)\n",
    "print(\"Erreur : \", e2)"
   ]
  },
  {
   "cell_type": "markdown",
   "metadata": {},
   "source": [
    "<h5>3.</h5> Taux d'erreur e = 1 - a"
   ]
  },
  {
   "cell_type": "code",
   "execution_count": 49,
   "metadata": {},
   "outputs": [
    {
     "name": "stdout",
     "output_type": "stream",
     "text": [
      "Erreur :  0.33333333333333337\n"
     ]
    }
   ],
   "source": [
    "#Accuracy\n",
    "a = dtc.score(data, target)\n",
    "#Erreur\n",
    "e3 = 1 - a\n",
    "print(\"Erreur : \",e3)"
   ]
  },
  {
   "cell_type": "markdown",
   "metadata": {},
   "source": [
    "<h3> Result: </h3>\n",
    "<h5> Calculated error: </h5>\n",
    "        \n",
    "    ============== ======== \n",
    "                    Erreur  \n",
    "    ============== ======== \n",
    "    Method 1:      0.3333333333333333 \n",
    "    Method 2:      0.3333333333333333  \n",
    "    Method 3:      0.33333333333333337 \n",
    "    ============== ======== \n",
    "The value found is the same!\n",
    " \n",
    "<h5> Data with a prediction error: </h5>"
   ]
  },
  {
   "cell_type": "code",
   "execution_count": 50,
   "metadata": {},
   "outputs": [
    {
     "name": "stdout",
     "output_type": "stream",
     "text": [
      "Ligne  Enregistrement   Prédiction  ||  Observation \n",
      "100   [6.3 3.3 6.  2.5]     1       ||  2\n",
      "101   [5.8 2.7 5.1 1.9]     1       ||  2\n",
      "102   [7.1 3.  5.9 2.1]     1       ||  2\n",
      "103   [6.3 2.9 5.6 1.8]     1       ||  2\n",
      "104   [6.5 3.  5.8 2.2]     1       ||  2\n",
      "105   [7.6 3.  6.6 2.1]     1       ||  2\n",
      "106   [4.9 2.5 4.5 1.7]     1       ||  2\n",
      "107   [7.3 2.9 6.3 1.8]     1       ||  2\n",
      "108   [6.7 2.5 5.8 1.8]     1       ||  2\n",
      "109   [7.2 3.6 6.1 2.5]     1       ||  2\n",
      "110   [6.5 3.2 5.1 2. ]     1       ||  2\n",
      "111   [6.4 2.7 5.3 1.9]     1       ||  2\n",
      "112   [6.8 3.  5.5 2.1]     1       ||  2\n",
      "113   [5.7 2.5 5.  2. ]     1       ||  2\n",
      "114   [5.8 2.8 5.1 2.4]     1       ||  2\n",
      "115   [6.4 3.2 5.3 2.3]     1       ||  2\n",
      "116   [6.5 3.  5.5 1.8]     1       ||  2\n",
      "117   [7.7 3.8 6.7 2.2]     1       ||  2\n",
      "118   [7.7 2.6 6.9 2.3]     1       ||  2\n",
      "119   [6.  2.2 5.  1.5]     1       ||  2\n",
      "120   [6.9 3.2 5.7 2.3]     1       ||  2\n",
      "121   [5.6 2.8 4.9 2. ]     1       ||  2\n",
      "122   [7.7 2.8 6.7 2. ]     1       ||  2\n",
      "123   [6.3 2.7 4.9 1.8]     1       ||  2\n",
      "124   [6.7 3.3 5.7 2.1]     1       ||  2\n",
      "125   [7.2 3.2 6.  1.8]     1       ||  2\n",
      "126   [6.2 2.8 4.8 1.8]     1       ||  2\n",
      "127   [6.1 3.  4.9 1.8]     1       ||  2\n",
      "128   [6.4 2.8 5.6 2.1]     1       ||  2\n",
      "129   [7.2 3.  5.8 1.6]     1       ||  2\n",
      "130   [7.4 2.8 6.1 1.9]     1       ||  2\n",
      "131   [7.9 3.8 6.4 2. ]     1       ||  2\n",
      "132   [6.4 2.8 5.6 2.2]     1       ||  2\n",
      "133   [6.3 2.8 5.1 1.5]     1       ||  2\n",
      "134   [6.1 2.6 5.6 1.4]     1       ||  2\n",
      "135   [7.7 3.  6.1 2.3]     1       ||  2\n",
      "136   [6.3 3.4 5.6 2.4]     1       ||  2\n",
      "137   [6.4 3.1 5.5 1.8]     1       ||  2\n",
      "138   [6.  3.  4.8 1.8]     1       ||  2\n",
      "139   [6.9 3.1 5.4 2.1]     1       ||  2\n",
      "140   [6.7 3.1 5.6 2.4]     1       ||  2\n",
      "141   [6.9 3.1 5.1 2.3]     1       ||  2\n",
      "142   [5.8 2.7 5.1 1.9]     1       ||  2\n",
      "143   [6.8 3.2 5.9 2.3]     1       ||  2\n",
      "144   [6.7 3.3 5.7 2.5]     1       ||  2\n",
      "145   [6.7 3.  5.2 2.3]     1       ||  2\n",
      "146   [6.3 2.5 5.  1.9]     1       ||  2\n",
      "147   [6.5 3.  5.2 2. ]     1       ||  2\n",
      "148   [6.2 3.4 5.4 2.3]     1       ||  2\n",
      "149   [5.9 3.  5.1 1.8]     1       ||  2\n"
     ]
    }
   ],
   "source": [
    "print(\"Ligne  Enregistrement   Prédiction  ||  Observation \")\n",
    "for i in range(len(irisData.data)):\n",
    "    if (P[i] != Y[i]):\n",
    "        print(i, \" \", data[i] , \"   \" ,P[i] , \"      || \" , Y[i]) "
   ]
  },
  {
   "cell_type": "markdown",
   "metadata": {},
   "source": [
    "<h5> 2. Performance in generalization </h5>\n",
    "2.1. Estimate the actual error by dividing the training sample:"
   ]
  },
  {
   "cell_type": "code",
   "execution_count": 51,
   "metadata": {},
   "outputs": [],
   "source": [
    "import random"
   ]
  },
  {
   "cell_type": "code",
   "execution_count": 52,
   "metadata": {},
   "outputs": [],
   "source": [
    "def split(s):\n",
    "    delim = int(len(s.data) / 3) * 2\n",
    "    d = np.array(irisData.data)\n",
    "    t = np.array(irisData.target)\n",
    "\n",
    "    all = list(zip(d, t))\n",
    "    random.shuffle(all)\n",
    "    d, t = zip(*all)\n",
    "    \n",
    "    dataS1 = d[:delim]\n",
    "    targetS1 = t[:delim]\n",
    "    dataS2 = d[delim:]\n",
    "    targetS2 = t[delim:]\n",
    "    return [dataS1, targetS1, dataS2, targetS2]"
   ]
  },
  {
   "cell_type": "code",
   "execution_count": 53,
   "metadata": {},
   "outputs": [],
   "source": [
    "[dataS1, targetS1, dataS2, targetS2] = split(irisData)"
   ]
  },
  {
   "cell_type": "code",
   "execution_count": 54,
   "metadata": {},
   "outputs": [],
   "source": [
    "def test(s, clf):\n",
    "    [dataS1, targetS1, dataS2, targetS2] = split(s)\n",
    "    #Training s2\n",
    "    clf.fit(dataS1, targetS1)\n",
    "    #Predicted S2\n",
    "    predictedS2 = clf.predict(dataS2)\n",
    "    #Accuracy \n",
    "    accu = clf.score(dataS2,targetS2)  \n",
    "    #Erreur\n",
    "    e = 1 - accu\n",
    "    return e"
   ]
  },
  {
   "cell_type": "markdown",
   "metadata": {},
   "source": [
    "<h4> Test on the Iris dataset with DecisionTreeClassifier </h4>"
   ]
  },
  {
   "cell_type": "code",
   "execution_count": 55,
   "metadata": {},
   "outputs": [
    {
     "data": {
      "text/plain": [
       "0.06000000000000005"
      ]
     },
     "execution_count": 55,
     "metadata": {},
     "output_type": "execute_result"
    }
   ],
   "source": [
    "test(irisData, dtc)"
   ]
  },
  {
   "cell_type": "code",
   "execution_count": 56,
   "metadata": {},
   "outputs": [
    {
     "data": {
      "text/plain": [
       "0.09999999999999998"
      ]
     },
     "execution_count": 56,
     "metadata": {},
     "output_type": "execute_result"
    }
   ],
   "source": [
    "test(irisData, dtc)"
   ]
  },
  {
   "cell_type": "markdown",
   "metadata": {},
   "source": [
    "<h5> Note: </h5> The estimated error is smaller than the apparent error previously calculated and we do not always get the same\n",
    "estimate for actual error "
   ]
  },
  {
   "cell_type": "code",
   "execution_count": 57,
   "metadata": {},
   "outputs": [],
   "source": [
    "def t_test(s, clf, t):\n",
    "    e_moyenne = 0\n",
    "    for i in range(0, t):\n",
    "        e_moyenne = e_moyenne + test(s, clf)\n",
    "    e_moyenne = e_moyenne / t\n",
    "    return e_moyenne"
   ]
  },
  {
   "cell_type": "code",
   "execution_count": 58,
   "metadata": {},
   "outputs": [
    {
     "name": "stdout",
     "output_type": "stream",
     "text": [
      "t = 10 :  0.05000000000000003\n",
      "t = 50 :  0.058000000000000045\n",
      "t = 100 :  0.05200000000000002\n",
      "t = 500 :  0.05567999999999968\n",
      "t = 1000 :  0.05578000000000004\n"
     ]
    }
   ],
   "source": [
    "print(\"t = 10 : \", t_test(irisData, dtc, 10))\n",
    "print(\"t = 50 : \", t_test(irisData, dtc, 50))\n",
    "print(\"t = 100 : \", t_test(irisData, dtc, 100))\n",
    "print(\"t = 500 : \", t_test(irisData, dtc, 500))\n",
    "print(\"t = 1000 : \", t_test(irisData, dtc, 1000))"
   ]
  },
  {
   "cell_type": "code",
   "execution_count": 59,
   "metadata": {},
   "outputs": [],
   "source": [
    "def afficher_t(t):\n",
    "    s = \"\"\n",
    "    for element in t:\n",
    "        s = s + \" || \" + str(element)\n",
    "    return s"
   ]
  },
  {
   "cell_type": "code",
   "execution_count": 60,
   "metadata": {},
   "outputs": [
    {
     "name": "stdout",
     "output_type": "stream",
     "text": [
      " || t = 10 || 0.05800000000000003 || 0.04600000000000003 || 0.05800000000000003 || 0.05600000000000001 || 0.06200000000000001 || 0.052000000000000005 || 0.054000000000000006 || 0.06599999999999999 || 0.052000000000000025 || 0.06600000000000002 || 0.07600000000000001 || 0.05400000000000001 || 0.04600000000000003 || 0.05800000000000001 || 0.06200000000000001 || 0.06000000000000003 || 0.04800000000000003 || 0.052000000000000025 || 0.04600000000000003 || 0.052000000000000025\n",
      "---------------------------------------------------------------------\n",
      " || t = 50 || 0.051600000000000035 || 0.05600000000000003 || 0.060400000000000044 || 0.06000000000000003 || 0.05440000000000003 || 0.05120000000000004 || 0.05320000000000003 || 0.055200000000000034 || 0.05800000000000003 || 0.05000000000000004 || 0.05640000000000004 || 0.05600000000000004 || 0.05760000000000004 || 0.06720000000000004 || 0.056800000000000045 || 0.06400000000000004 || 0.06160000000000004 || 0.05320000000000004 || 0.06520000000000004 || 0.06440000000000004\n",
      "---------------------------------------------------------------------\n",
      " || t = 100 || 0.05240000000000004 || 0.05500000000000007 || 0.05440000000000001 || 0.05400000000000004 || 0.05280000000000006 || 0.05800000000000002 || 0.05320000000000002 || 0.05360000000000005 || 0.05220000000000003 || 0.06000000000000005 || 0.052600000000000036 || 0.05040000000000002 || 0.05740000000000003 || 0.055000000000000035 || 0.05780000000000002 || 0.05640000000000006 || 0.06040000000000004 || 0.05620000000000005 || 0.053000000000000026 || 0.060600000000000015\n",
      "---------------------------------------------------------------------\n",
      " || t = 500 || 0.05427999999999967 || 0.059279999999999666 || 0.05487999999999969 || 0.05783999999999967 || 0.0557999999999997 || 0.05395999999999966 || 0.05599999999999969 || 0.05751999999999968 || 0.05639999999999972 || 0.05635999999999971 || 0.05587999999999968 || 0.05675999999999963 || 0.056839999999999634 || 0.055919999999999706 || 0.05459999999999966 || 0.05495999999999966 || 0.056199999999999646 || 0.056399999999999645 || 0.05631999999999966 || 0.05751999999999961\n",
      "---------------------------------------------------------------------\n",
      " || t = 1000 || 0.05676000000000002 || 0.05563999999999998 || 0.05474000000000003 || 0.05658000000000002 || 0.056079999999999956 || 0.055280000000000044 || 0.05712000000000002 || 0.05700000000000002 || 0.05474 || 0.05665999999999993 || 0.05514000000000011 || 0.05646000000000006 || 0.056040000000000076 || 0.056080000000000005 || 0.05555999999999999 || 0.056600000000000025 || 0.05631999999999996 || 0.05494000000000004 || 0.05644000000000008 || 0.05544000000000003\n"
     ]
    }
   ],
   "source": [
    "t_10 = [\"t = 10\"]\n",
    "t_50 = [\"t = 50\"]\n",
    "t_100 = [\"t = 100\"]\n",
    "t_500 = [\"t = 500\"]\n",
    "t_1000 = [\"t = 1000\"]\n",
    "\n",
    "for i in range(0, 20):\n",
    "    t_10.append(t_test(irisData, dtc, 10))\n",
    "    t_50.append(t_test(irisData, dtc, 50))\n",
    "    t_100.append(t_test(irisData, dtc, 100))\n",
    "    t_500.append(t_test(irisData, dtc, 500))\n",
    "    t_1000.append(t_test(irisData, dtc, 1000))\n",
    "    \n",
    "\n",
    "print(afficher_t(t_10))\n",
    "print(\"---------------------------------------------------------------------\")\n",
    "print(afficher_t(t_50))\n",
    "print(\"---------------------------------------------------------------------\")\n",
    "print(afficher_t(t_100))\n",
    "print(\"---------------------------------------------------------------------\")\n",
    "print(afficher_t(t_500))\n",
    "print(\"---------------------------------------------------------------------\")\n",
    "print(afficher_t(t_1000))"
   ]
  },
  {
   "cell_type": "markdown",
   "metadata": {},
   "source": [
    "<h5> Interpretation: </h5> Yes, indeed the error is stable, it is around 0.2\n",
    "<h5> d. </h5> No, the estimated error (in its stable version), in the case of a test sample which only takes the 10th of the initial sample is not the same as with the proportion of 1/3. The error at the proportion of 1/3 is smaller.\n",
    "<h5> e. </h5>"
   ]
  },
  {
   "cell_type": "code",
   "execution_count": 61,
   "metadata": {},
   "outputs": [],
   "source": [
    "from sklearn.model_selection import train_test_split"
   ]
  },
  {
   "cell_type": "code",
   "execution_count": 62,
   "metadata": {},
   "outputs": [],
   "source": [
    "def test_decoupage_sklearn(s, clf, size):\n",
    "    (D_train,\n",
    "     C_train,\n",
    "     D_test,\n",
    "     C_test) = train_test_split(s.data, s.target, test_size=size, random_state=1)\n",
    "    clf.fit(D_train, D_test)\n",
    "    #Predicted S2\n",
    "    predictedS2 = clf.predict(C_train)\n",
    "    #Accuracy \n",
    "    accu = clf.score(C_train,C_test)  \n",
    "    #Erreur\n",
    "    e = 1 - accu\n",
    "    return e"
   ]
  },
  {
   "cell_type": "code",
   "execution_count": 63,
   "metadata": {},
   "outputs": [
    {
     "name": "stdout",
     "output_type": "stream",
     "text": [
      "Test_size = 0.2 :  0.033333333333333326\n",
      "Test_size = 0.25 :  0.02631578947368418\n",
      "Test_size = 0.3 :  0.0444444444444444\n",
      "Test_size = 0.33 :  0.040000000000000036\n",
      "Test_size = 0.35 :  0.037735849056603765\n"
     ]
    }
   ],
   "source": [
    "print(\"Test_size = 0.2 : \", test_decoupage_sklearn(irisData, dtc, 0.2))\n",
    "print(\"Test_size = 0.25 : \", test_decoupage_sklearn(irisData, dtc, 0.25))\n",
    "print(\"Test_size = 0.3 : \", test_decoupage_sklearn(irisData, dtc, 0.3))\n",
    "print(\"Test_size = 0.33 : \", test_decoupage_sklearn(irisData, dtc, 0.33))\n",
    "print(\"Test_size = 0.35 : \", test_decoupage_sklearn(irisData, dtc, 0.35))"
   ]
  },
  {
   "cell_type": "markdown",
   "metadata": {},
   "source": [
    "<h5> 2.2 Estimate the real error by cross validation </h5>"
   ]
  },
  {
   "cell_type": "code",
   "execution_count": 64,
   "metadata": {},
   "outputs": [],
   "source": [
    "from sklearn.model_selection import cross_val_score"
   ]
  },
  {
   "cell_type": "code",
   "execution_count": 65,
   "metadata": {},
   "outputs": [],
   "source": [
    "def test_crossValidation(s,clf, k):\n",
    "    scores = cross_val_score(clf, s.data, s.target, cv=k)\n",
    "    acc = scores.mean()\n",
    "    e = 1 - acc\n",
    "    return e"
   ]
  },
  {
   "cell_type": "code",
   "execution_count": 66,
   "metadata": {},
   "outputs": [
    {
     "name": "stdout",
     "output_type": "stream",
     "text": [
      "k = 2 : 0.046666666666666634\n",
      "k = 3 : 0.033333333333333326\n",
      "k = 5 : 0.039999999999999813\n",
      "k = 8 : 0.03947368421052633\n",
      "k = 10 : 0.040000000000000036\n"
     ]
    }
   ],
   "source": [
    "print(\"k = 2 :\", test_crossValidation(irisData, dtc, 2))\n",
    "print(\"k = 3 :\", test_crossValidation(irisData, dtc, 3))\n",
    "print(\"k = 5 :\", test_crossValidation(irisData, dtc, 5))\n",
    "print(\"k = 8 :\", test_crossValidation(irisData, dtc, 8))\n",
    "print(\"k = 10 :\", test_crossValidation(irisData, dtc, 10))"
   ]
  },
  {
   "cell_type": "code",
   "execution_count": null,
   "metadata": {},
   "outputs": [],
   "source": []
  }
 ],
 "metadata": {
  "kernelspec": {
   "display_name": "Python 3",
   "language": "python",
   "name": "python3"
  },
  "language_info": {
   "codemirror_mode": {
    "name": "ipython",
    "version": 3
   },
   "file_extension": ".py",
   "mimetype": "text/x-python",
   "name": "python",
   "nbconvert_exporter": "python",
   "pygments_lexer": "ipython3",
   "version": "3.8.5"
  }
 },
 "nbformat": 4,
 "nbformat_minor": 4
}
